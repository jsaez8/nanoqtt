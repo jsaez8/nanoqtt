{
 "cells": [
  {
   "cell_type": "markdown",
   "metadata": {},
   "source": [
    "# Basic template for 1D and 2D plots in qtt\n",
    "### Load libraries (probably some are not needed)"
   ]
  },
  {
   "cell_type": "code",
   "execution_count": 1,
   "metadata": {},
   "outputs": [],
   "source": [
    "import sys, os, tempfile\n",
    "import numpy as np\n",
    "%matplotlib inline\n",
    "%gui qt\n",
    "import matplotlib.pyplot as plt\n",
    "import qcodes\n",
    "from qcodes.plots.qcmatplotlib import MatPlot\n",
    "from qcodes.plots.pyqtgraph import QtPlot\n",
    "from qcodes.data.data_set import DataSet\n",
    "import qtt\n",
    "from qtt.measurements.scans import scanjob_t  \n",
    "from qtt.measurements.videomode import VideoMode\n",
    "\n",
    "import time\n",
    "import datetime"
   ]
  },
  {
   "cell_type": "code",
   "execution_count": 2,
   "metadata": {},
   "outputs": [],
   "source": [
    "from qtt.instrument_drivers.virtualAwg.virtual_awg import VirtualAwg\n",
    "from qcodes.utils.validators import Numbers\n",
    "from qcodes.instrument.base import Instrument\n",
    "from qcodes.instrument.parameter import ManualParameter\n",
    "\n",
    "from qtt.algorithms.ohmic import fitOhmic"
   ]
  },
  {
   "cell_type": "code",
   "execution_count": 3,
   "metadata": {},
   "outputs": [],
   "source": [
    "import pyvisa #Communications\n",
    "import visa #Communications"
   ]
  },
  {
   "cell_type": "code",
   "execution_count": 4,
   "metadata": {},
   "outputs": [],
   "source": [
    "from qtt.instrument_drivers.gates import VirtualDAC\n",
    "\n",
    "# Drivers\n",
    "from qcodes.instrument_drivers.Keysight.Keysight_34465A import Keysight_34465A\n",
    "from qcodes.instrument_drivers.IST_devices.FastDuck import FastDuck as DAC_module\n",
    "from qcodes_contrib_drivers.drivers.QuTech.IVVI import IVVI"
   ]
  },
  {
   "cell_type": "markdown",
   "metadata": {},
   "source": [
    "### Choose folder to save your data"
   ]
  },
  {
   "cell_type": "code",
   "execution_count": 80,
   "metadata": {},
   "outputs": [],
   "source": [
    "# set data directory\n",
    "path_save = r'Choose your path'\n",
    "datadir = os.path.join(path_save, 'Choose the name of the folder')\n",
    "DataSet.default_io = qcodes.data.io.DiskIO(datadir)  "
   ]
  },
  {
   "cell_type": "code",
   "execution_count": 85,
   "metadata": {},
   "outputs": [
    {
     "data": {
      "text/plain": [
       "'K:\\\\Measurement\\\\Jaime\\\\20210224_10721_S22_TopRight_device'"
      ]
     },
     "execution_count": 85,
     "metadata": {},
     "output_type": "execute_result"
    }
   ],
   "source": [
    "datadir"
   ]
  },
  {
   "cell_type": "markdown",
   "metadata": {},
   "source": [
    "### Initialize instruments"
   ]
  },
  {
   "cell_type": "code",
   "execution_count": 6,
   "metadata": {},
   "outputs": [
    {
     "data": {
      "text/plain": [
       "('USB0::0x2A8D::0x0101::MY57511347::INSTR',\n",
       " 'ASRL1::INSTR',\n",
       " 'ASRL6::INSTR',\n",
       " 'ASRL10::INSTR')"
      ]
     },
     "execution_count": 6,
     "metadata": {},
     "output_type": "execute_result"
    }
   ],
   "source": [
    "rm = pyvisa.ResourceManager()\n",
    "rm.list_resources()"
   ]
  },
  {
   "cell_type": "code",
   "execution_count": null,
   "metadata": {},
   "outputs": [],
   "source": [
    "# DMM\n",
    "dmm_sensor = Keysight_34465A('dmm_sensor', 'USB0::0x2A8D::0x0101::MY57511347::INSTR')\n",
    "\n",
    "# FAST DUCK\n",
    "DAC = DAC_module('DAC','COM6', dac_step=2.0, dac_delay=0.1)"
   ]
  },
  {
   "cell_type": "code",
   "execution_count": null,
   "metadata": {},
   "outputs": [],
   "source": [
    "#TODO: change by Scaled parameter"
   ]
  },
  {
   "cell_type": "code",
   "execution_count": null,
   "metadata": {},
   "outputs": [],
   "source": [
    "class DMM_current(qcodes.Parameter):\n",
    "    def __init__(self, name, dmm_instance, gain):\n",
    "        # only name is required\n",
    "        super().__init__(name, label='1G',\n",
    "                         #vals=qc.validators.Ints(min_value=0),\n",
    "                         docstring='measures the current out of the DMM',\n",
    "                         unit= 'A')\n",
    "        self.dmm_instance = dmm_instance\n",
    "        self._gain = gain\n",
    "    # you must provide a get method, a set method, or both\n",
    "    def get_raw(self):\n",
    "        self._current = self.dmm_instance.volt.get()/self._gain\n",
    "        return self._current\n",
    "    \n",
    "    def set_raw(self, val):\n",
    "        # StandardParameter handles validation automatically, Parameter doesn't\n",
    "        self._vals.validate(val)\n",
    "        self._count = val\n",
    "        \n",
    "\n",
    "\n",
    "#give the parameter a name and set the gain. \n",
    "#Careful to not call it DMM.curr because it may get confused with \n",
    "#the already existing DMM 'A')"
   ]
  },
  {
   "cell_type": "code",
   "execution_count": 81,
   "metadata": {},
   "outputs": [],
   "source": [
    "dmm_curr_sensor = DMM_current('dmm_curr_sensor', dmm_instance=dmm_sensor, gain=1e9)"
   ]
  },
  {
   "cell_type": "markdown",
   "metadata": {},
   "source": [
    "#### Set limits to the values of dacs (safety measure)"
   ]
  },
  {
   "cell_type": "code",
   "execution_count": 190,
   "metadata": {},
   "outputs": [],
   "source": [
    "#Setting min and max values for each DAC\n",
    "DAC.parameters['dac5'].vals._min_value = 0.0\n",
    "DAC.parameters['dac5'].vals._max_value = 4000.0\n",
    "DAC.parameters['dac6'].vals._min_value = -500\n",
    "DAC.parameters['dac6'].vals._max_value = 4000.0\n",
    "DAC.parameters['dac7'].vals._min_value = 0.0\n",
    "DAC.parameters['dac7'].vals._max_value = 4000.0\n",
    "DAC.parameters['dac8'].vals._min_value = 0.0\n",
    "DAC.parameters['dac8'].vals._max_value = 4000.0\n",
    "DAC.parameters['dac9'].vals._min_value = 0.0\n",
    "DAC.parameters['dac9'].vals._max_value = 4000.0\n",
    "DAC.parameters['dac10'].vals._min_value = 0.0\n",
    "DAC.parameters['dac10'].vals._max_value = 2500.0\n",
    "DAC.parameters['dac11'].vals._min_value = 0.0\n",
    "DAC.parameters['dac11'].vals._max_value = 3600.0\n",
    "DAC.parameters['dac12'].vals._min_value = 0.0\n",
    "DAC.parameters['dac12'].vals._max_value = 3200.0\n",
    "DAC.parameters['dac13'].vals._min_value = 0.0\n",
    "DAC.parameters['dac13'].vals._max_value = 3100.0\n",
    "DAC.parameters['dac14'].vals._min_value = 2100.0\n",
    "DAC.parameters['dac14'].vals._max_value = 3100.0\n",
    "DAC.parameters['dac15'].vals._min_value = 0.0\n",
    "DAC.parameters['dac15'].vals._max_value = 1600.0\n",
    "DAC.parameters['dac16'].vals._min_value = 0.0\n",
    "DAC.parameters['dac16'].vals._max_value = 4000.0\n"
   ]
  },
  {
   "cell_type": "markdown",
   "metadata": {},
   "source": [
    "### Give meaninful names to the gates"
   ]
  },
  {
   "cell_type": "code",
   "execution_count": 16,
   "metadata": {},
   "outputs": [],
   "source": [
    "gates = VirtualDAC('gates', \n",
    "                   instruments = [DAC], \n",
    "                   gate_map ={'VCS': (0, 1), \n",
    "                              'VQD': (0, 2), \n",
    "                              'RightSeparation': (0, 3), \n",
    "                              'LeftSeparation': (0,4), \n",
    "                              'BL': (0, 5), \n",
    "                              'PM': (0, 6), \n",
    "                              'BR': (0,7), \n",
    "                              'CSL':(0,8),\n",
    "                              'CSM':(0,9),\n",
    "                              'CSR':(0,10)},\n",
    "                   rc_times=None)"
   ]
  },
  {
   "cell_type": "code",
   "execution_count": 127,
   "metadata": {},
   "outputs": [],
   "source": [
    "station = qcodes.Station(gates, digitizer, DAC, dmm_curr_sensor)"
   ]
  },
  {
   "cell_type": "code",
   "execution_count": 19,
   "metadata": {},
   "outputs": [],
   "source": [
    "pv = qtt.createParameterWidget([gates])\n",
    "mwindows = qtt.gui.live_plotting.setupMeasurementWindows(station, create_parameter_widget=False)\n",
    "plotQ = mwindows['plotwindow']"
   ]
  },
  {
   "cell_type": "markdown",
   "metadata": {},
   "source": [
    "# 1D plots"
   ]
  },
  {
   "cell_type": "code",
   "execution_count": 144,
   "metadata": {},
   "outputs": [
    {
     "name": "stdout",
     "output_type": "stream",
     "text": [
      "End\n"
     ]
    },
    {
     "data": {
      "image/png": "[encoded data removed]",
      "text/plain": [
       "<Figure size 432x288 with 1 Axes>"
      ]
     },
     "metadata": {
      "needs_background": "light"
     },
     "output_type": "display_data"
    }
   ],
   "source": [
    "# Checking the sensor\n",
    "scanjob = scanjob_t({'sweepdata': dict({'param': station.gates.VCS,\n",
    "                                        'start': -1, 'end': 1, 'step':0.1,\n",
    "                                        'wait_time': 1e-3}),\n",
    "                                        'minstrument': [station.dmm_curr_sensor]})\n",
    "\n",
    "data1d = qtt.measurements.scans.scan1D(station, scanjob, liveplotwindow= None, location=None, verbose=0)\n",
    "_ = MatPlot(data1d.default_parameter_array())"
   ]
  },
  {
   "cell_type": "code",
   "execution_count": 159,
   "metadata": {},
   "outputs": [
    {
     "name": "stdout",
     "output_type": "stream",
     "text": [
      "The resistance is: 332820.87888249743 Ohms\n"
     ]
    },
    {
     "data": {
      "image/png": "[encoded data removed]",
      "text/plain": [
       "<Figure size 432x288 with 1 Axes>"
      ]
     },
     "metadata": {
      "needs_background": "light"
     },
     "output_type": "display_data"
    }
   ],
   "source": [
    "r = fitOhmic(data1d, fig=300, gainx=1e-3, gainy=1)\n",
    "print('The resistance is: ' + str(r['resistance']) + ' Ohms')"
   ]
  },
  {
   "cell_type": "markdown",
   "metadata": {},
   "source": [
    "# 2D plots"
   ]
  },
  {
   "cell_type": "code",
   "execution_count": 183,
   "metadata": {},
   "outputs": [
    {
     "name": "stdout",
     "output_type": "stream",
     "text": [
      "scan2D: 0/67: time 00:00:00 (~00:00:00 remaining): setting BR to 1900.000\n",
      "scan2D: 1/67: time 00:00:10 (~00:11:19 remaining): setting BR to 1903.000\n",
      "scan2D: 2/67: time 00:00:17 (~00:09:44 remaining): setting BR to 1906.000\n",
      "scan2D: 3/67: time 00:00:25 (~00:09:09 remaining): setting BR to 1909.000\n",
      "scan2D: 4/67: time 00:00:33 (~00:08:47 remaining): setting BR to 1912.000\n"
     ]
    },
    {
     "ename": "UFuncTypeError",
     "evalue": "Cannot cast ufunc 'add' output from dtype('float64') to dtype('int32') with casting rule 'same_kind'",
     "output_type": "error",
     "traceback": [
      "\u001b[1;31m---------------------------------------------------------------------------\u001b[0m",
      "\u001b[1;31mUFuncTypeError\u001b[0m                            Traceback (most recent call last)",
      "\u001b[1;32m<ipython-input-183-d5b71faf692f>\u001b[0m in \u001b[0;36m<module>\u001b[1;34m\u001b[0m\n\u001b[0;32m      5\u001b[0m \u001b[1;33m\u001b[0m\u001b[0m\n\u001b[0;32m      6\u001b[0m \u001b[1;32mfor\u001b[0m \u001b[0mkey\u001b[0m \u001b[1;32min\u001b[0m \u001b[0mlist\u001b[0m\u001b[1;33m(\u001b[0m\u001b[0mdata\u001b[0m\u001b[1;33m.\u001b[0m\u001b[0marrays\u001b[0m\u001b[1;33m.\u001b[0m\u001b[0mkeys\u001b[0m\u001b[1;33m(\u001b[0m\u001b[1;33m)\u001b[0m\u001b[1;33m)\u001b[0m\u001b[1;33m[\u001b[0m\u001b[1;33m:\u001b[0m\u001b[0mlen\u001b[0m\u001b[1;33m(\u001b[0m\u001b[0mscanjob\u001b[0m\u001b[1;33m[\u001b[0m\u001b[1;34m'minstrument'\u001b[0m\u001b[1;33m]\u001b[0m\u001b[1;33m)\u001b[0m\u001b[1;33m]\u001b[0m\u001b[1;33m:\u001b[0m\u001b[1;33m\u001b[0m\u001b[1;33m\u001b[0m\u001b[0m\n\u001b[1;32m----> 7\u001b[1;33m     \u001b[0m_\u001b[0m \u001b[1;33m=\u001b[0m \u001b[0mMatPlot\u001b[0m\u001b[1;33m(\u001b[0m\u001b[0mdata\u001b[0m\u001b[1;33m.\u001b[0m\u001b[0marrays\u001b[0m\u001b[1;33m[\u001b[0m\u001b[0mkey\u001b[0m\u001b[1;33m]\u001b[0m\u001b[1;33m)\u001b[0m\u001b[1;33m\u001b[0m\u001b[1;33m\u001b[0m\u001b[0m\n\u001b[0m\u001b[0;32m      8\u001b[0m \u001b[1;33m\u001b[0m\u001b[0m\n\u001b[0;32m      9\u001b[0m \u001b[0mprint\u001b[0m\u001b[1;33m(\u001b[0m\u001b[0mstation\u001b[0m\u001b[1;33m.\u001b[0m\u001b[0mgates\u001b[0m\u001b[1;33m.\u001b[0m\u001b[0mget_all\u001b[0m\u001b[1;33m(\u001b[0m\u001b[0mverbose\u001b[0m\u001b[1;33m=\u001b[0m\u001b[1;36m1\u001b[0m\u001b[1;33m)\u001b[0m\u001b[1;33m)\u001b[0m\u001b[1;33m\u001b[0m\u001b[1;33m\u001b[0m\u001b[0m\n",
      "\u001b[1;32mc:\\users\\nanoelectronics\\anaconda3\\envs\\qcodes_qtt\\lib\\site-packages\\qcodes\\plots\\qcmatplotlib.py\u001b[0m in \u001b[0;36m__init__\u001b[1;34m(self, figsize, interval, subplots, num, *args, **kwargs)\u001b[0m\n\u001b[0;32m     68\u001b[0m             \u001b[1;32melse\u001b[0m\u001b[1;33m:\u001b[0m\u001b[1;33m\u001b[0m\u001b[1;33m\u001b[0m\u001b[0m\n\u001b[0;32m     69\u001b[0m                 \u001b[1;31m# Arg is single element, add to subplot\u001b[0m\u001b[1;33m\u001b[0m\u001b[1;33m\u001b[0m\u001b[1;33m\u001b[0m\u001b[0m\n\u001b[1;32m---> 70\u001b[1;33m                 \u001b[0mself\u001b[0m\u001b[1;33m[\u001b[0m\u001b[0mk\u001b[0m\u001b[1;33m]\u001b[0m\u001b[1;33m.\u001b[0m\u001b[0madd\u001b[0m\u001b[1;33m(\u001b[0m\u001b[0marg\u001b[0m\u001b[1;33m,\u001b[0m \u001b[1;33m**\u001b[0m\u001b[0mkwargs\u001b[0m\u001b[1;33m)\u001b[0m\u001b[1;33m\u001b[0m\u001b[1;33m\u001b[0m\u001b[0m\n\u001b[0m\u001b[0;32m     71\u001b[0m \u001b[1;33m\u001b[0m\u001b[0m\n\u001b[0;32m     72\u001b[0m         \u001b[0mself\u001b[0m\u001b[1;33m.\u001b[0m\u001b[0mtight_layout\u001b[0m\u001b[1;33m(\u001b[0m\u001b[1;33m)\u001b[0m\u001b[1;33m\u001b[0m\u001b[1;33m\u001b[0m\u001b[0m\n",
      "\u001b[1;32mc:\\users\\nanoelectronics\\anaconda3\\envs\\qcodes_qtt\\lib\\site-packages\\qcodes\\plots\\base.py\u001b[0m in \u001b[0;36madd\u001b[1;34m(self, updater, *args, **kwargs)\u001b[0m\n\u001b[0;32m     95\u001b[0m         \u001b[1;31m# TODO(giulioungaretti): replace with an explicit version, see expand trace\u001b[0m\u001b[1;33m\u001b[0m\u001b[1;33m\u001b[0m\u001b[1;33m\u001b[0m\u001b[0m\n\u001b[0;32m     96\u001b[0m         \u001b[0mself\u001b[0m\u001b[1;33m.\u001b[0m\u001b[0mexpand_trace\u001b[0m\u001b[1;33m(\u001b[0m\u001b[0margs\u001b[0m\u001b[1;33m,\u001b[0m \u001b[0mkwargs\u001b[0m\u001b[1;33m)\u001b[0m\u001b[1;33m\u001b[0m\u001b[1;33m\u001b[0m\u001b[0m\n\u001b[1;32m---> 97\u001b[1;33m         \u001b[0mplot_object\u001b[0m \u001b[1;33m=\u001b[0m \u001b[0mself\u001b[0m\u001b[1;33m.\u001b[0m\u001b[0madd_to_plot\u001b[0m\u001b[1;33m(\u001b[0m\u001b[1;33m**\u001b[0m\u001b[0mkwargs\u001b[0m\u001b[1;33m)\u001b[0m\u001b[1;33m\u001b[0m\u001b[1;33m\u001b[0m\u001b[0m\n\u001b[0m\u001b[0;32m     98\u001b[0m         \u001b[0mself\u001b[0m\u001b[1;33m.\u001b[0m\u001b[0madd_updater\u001b[0m\u001b[1;33m(\u001b[0m\u001b[0mupdater\u001b[0m\u001b[1;33m,\u001b[0m \u001b[0mkwargs\u001b[0m\u001b[1;33m)\u001b[0m\u001b[1;33m\u001b[0m\u001b[1;33m\u001b[0m\u001b[0m\n\u001b[0;32m     99\u001b[0m \u001b[1;33m\u001b[0m\u001b[0m\n",
      "\u001b[1;32mc:\\users\\nanoelectronics\\anaconda3\\envs\\qcodes_qtt\\lib\\site-packages\\qcodes\\plots\\qcmatplotlib.py\u001b[0m in \u001b[0;36madd_to_plot\u001b[1;34m(self, use_offset, **kwargs)\u001b[0m\n\u001b[0;32m    159\u001b[0m         \u001b[0max\u001b[0m \u001b[1;33m=\u001b[0m \u001b[0mself\u001b[0m\u001b[1;33m[\u001b[0m\u001b[0mkwargs\u001b[0m\u001b[1;33m.\u001b[0m\u001b[0mget\u001b[0m\u001b[1;33m(\u001b[0m\u001b[1;34m'subplot'\u001b[0m\u001b[1;33m,\u001b[0m \u001b[1;36m1\u001b[0m\u001b[1;33m)\u001b[0m \u001b[1;33m-\u001b[0m \u001b[1;36m1\u001b[0m\u001b[1;33m]\u001b[0m\u001b[1;33m\u001b[0m\u001b[1;33m\u001b[0m\u001b[0m\n\u001b[0;32m    160\u001b[0m         \u001b[1;32mif\u001b[0m \u001b[1;34m'z'\u001b[0m \u001b[1;32min\u001b[0m \u001b[0mkwargs\u001b[0m\u001b[1;33m:\u001b[0m\u001b[1;33m\u001b[0m\u001b[1;33m\u001b[0m\u001b[0m\n\u001b[1;32m--> 161\u001b[1;33m             \u001b[0mplot_object\u001b[0m \u001b[1;33m=\u001b[0m \u001b[0mself\u001b[0m\u001b[1;33m.\u001b[0m\u001b[0m_draw_pcolormesh\u001b[0m\u001b[1;33m(\u001b[0m\u001b[0max\u001b[0m\u001b[1;33m,\u001b[0m \u001b[1;33m**\u001b[0m\u001b[0mkwargs\u001b[0m\u001b[1;33m)\u001b[0m\u001b[1;33m\u001b[0m\u001b[1;33m\u001b[0m\u001b[0m\n\u001b[0m\u001b[0;32m    162\u001b[0m         \u001b[1;32melse\u001b[0m\u001b[1;33m:\u001b[0m\u001b[1;33m\u001b[0m\u001b[1;33m\u001b[0m\u001b[0m\n\u001b[0;32m    163\u001b[0m             \u001b[0mplot_object\u001b[0m \u001b[1;33m=\u001b[0m \u001b[0mself\u001b[0m\u001b[1;33m.\u001b[0m\u001b[0m_draw_plot\u001b[0m\u001b[1;33m(\u001b[0m\u001b[0max\u001b[0m\u001b[1;33m,\u001b[0m \u001b[1;33m**\u001b[0m\u001b[0mkwargs\u001b[0m\u001b[1;33m)\u001b[0m\u001b[1;33m\u001b[0m\u001b[1;33m\u001b[0m\u001b[0m\n",
      "\u001b[1;32mc:\\users\\nanoelectronics\\anaconda3\\envs\\qcodes_qtt\\lib\\site-packages\\qcodes\\plots\\qcmatplotlib.py\u001b[0m in \u001b[0;36m_draw_pcolormesh\u001b[1;34m(self, ax, z, x, y, subplot, xlabel, ylabel, zlabel, xunit, yunit, zunit, nticks, **kwargs)\u001b[0m\n\u001b[0;32m    382\u001b[0m             \u001b[0mkwargs\u001b[0m\u001b[1;33m[\u001b[0m\u001b[1;34m'cmap'\u001b[0m\u001b[1;33m]\u001b[0m \u001b[1;33m=\u001b[0m \u001b[0mqcodes\u001b[0m\u001b[1;33m.\u001b[0m\u001b[0mconfig\u001b[0m\u001b[1;33m[\u001b[0m\u001b[1;34m'gui'\u001b[0m\u001b[1;33m]\u001b[0m\u001b[1;33m[\u001b[0m\u001b[1;34m'defaultcolormap'\u001b[0m\u001b[1;33m]\u001b[0m\u001b[1;33m\u001b[0m\u001b[1;33m\u001b[0m\u001b[0m\n\u001b[0;32m    383\u001b[0m \u001b[1;33m\u001b[0m\u001b[0m\n\u001b[1;32m--> 384\u001b[1;33m         \u001b[0margs\u001b[0m \u001b[1;33m=\u001b[0m \u001b[0mself\u001b[0m\u001b[1;33m.\u001b[0m\u001b[0m_make_args_for_pcolormesh\u001b[0m\u001b[1;33m(\u001b[0m\u001b[0margs_masked\u001b[0m\u001b[1;33m,\u001b[0m \u001b[0mx\u001b[0m\u001b[1;33m,\u001b[0m \u001b[0my\u001b[0m\u001b[1;33m)\u001b[0m\u001b[1;33m\u001b[0m\u001b[1;33m\u001b[0m\u001b[0m\n\u001b[0m\u001b[0;32m    385\u001b[0m \u001b[1;33m\u001b[0m\u001b[0m\n\u001b[0;32m    386\u001b[0m         \u001b[0mpc\u001b[0m \u001b[1;33m=\u001b[0m \u001b[0max\u001b[0m\u001b[1;33m.\u001b[0m\u001b[0mpcolormesh\u001b[0m\u001b[1;33m(\u001b[0m\u001b[1;33m*\u001b[0m\u001b[0margs\u001b[0m\u001b[1;33m,\u001b[0m \u001b[1;33m**\u001b[0m\u001b[0mkwargs\u001b[0m\u001b[1;33m)\u001b[0m\u001b[1;33m\u001b[0m\u001b[1;33m\u001b[0m\u001b[0m\n",
      "\u001b[1;32mc:\\users\\nanoelectronics\\anaconda3\\envs\\qcodes_qtt\\lib\\site-packages\\qcodes\\plots\\qcmatplotlib.py\u001b[0m in \u001b[0;36m_make_args_for_pcolormesh\u001b[1;34m(args_masked, x, y)\u001b[0m\n\u001b[0;32m    347\u001b[0m                 \u001b[0marr_shift\u001b[0m \u001b[1;33m=\u001b[0m \u001b[0mnp\u001b[0m\u001b[1;33m.\u001b[0m\u001b[0minsert\u001b[0m\u001b[1;33m(\u001b[0m\u001b[0marr\u001b[0m\u001b[1;33m,\u001b[0m \u001b[1;36m0\u001b[0m\u001b[1;33m,\u001b[0m \u001b[0marr\u001b[0m\u001b[1;33m[\u001b[0m\u001b[1;36m0\u001b[0m\u001b[1;33m]\u001b[0m\u001b[1;33m)\u001b[0m\u001b[1;33m\u001b[0m\u001b[1;33m\u001b[0m\u001b[0m\n\u001b[0;32m    348\u001b[0m                 \u001b[0marr_shift\u001b[0m\u001b[1;33m[\u001b[0m\u001b[1;36m0\u001b[0m\u001b[1;33m]\u001b[0m \u001b[1;33m-=\u001b[0m \u001b[0mstep_size\u001b[0m\u001b[1;33m/\u001b[0m\u001b[1;36m2\u001b[0m\u001b[1;33m\u001b[0m\u001b[1;33m\u001b[0m\u001b[0m\n\u001b[1;32m--> 349\u001b[1;33m                 \u001b[0marr_shift\u001b[0m\u001b[1;33m[\u001b[0m\u001b[1;36m1\u001b[0m\u001b[1;33m:\u001b[0m\u001b[1;33m]\u001b[0m \u001b[1;33m+=\u001b[0m \u001b[0mstep_size\u001b[0m\u001b[1;33m/\u001b[0m\u001b[1;36m2\u001b[0m\u001b[1;33m\u001b[0m\u001b[1;33m\u001b[0m\u001b[0m\n\u001b[0m\u001b[0;32m    350\u001b[0m                 \u001b[0margs\u001b[0m\u001b[1;33m.\u001b[0m\u001b[0mappend\u001b[0m\u001b[1;33m(\u001b[0m\u001b[0marr_shift\u001b[0m\u001b[1;33m)\u001b[0m\u001b[1;33m\u001b[0m\u001b[1;33m\u001b[0m\u001b[0m\n\u001b[0;32m    351\u001b[0m             \u001b[0margs\u001b[0m\u001b[1;33m.\u001b[0m\u001b[0mappend\u001b[0m\u001b[1;33m(\u001b[0m\u001b[0margs_masked\u001b[0m\u001b[1;33m[\u001b[0m\u001b[1;33m-\u001b[0m\u001b[1;36m1\u001b[0m\u001b[1;33m]\u001b[0m\u001b[1;33m)\u001b[0m\u001b[1;33m\u001b[0m\u001b[1;33m\u001b[0m\u001b[0m\n",
      "\u001b[1;32mc:\\users\\nanoelectronics\\anaconda3\\envs\\qcodes_qtt\\lib\\site-packages\\numpy\\ma\\core.py\u001b[0m in \u001b[0;36m__iadd__\u001b[1;34m(self, other)\u001b[0m\n\u001b[0;32m   4210\u001b[0m                 \u001b[0mself\u001b[0m\u001b[1;33m.\u001b[0m\u001b[0m_mask\u001b[0m \u001b[1;33m+=\u001b[0m \u001b[0mm\u001b[0m\u001b[1;33m\u001b[0m\u001b[1;33m\u001b[0m\u001b[0m\n\u001b[0;32m   4211\u001b[0m         self._data.__iadd__(np.where(self._mask, self.dtype.type(0),\n\u001b[1;32m-> 4212\u001b[1;33m                                      getdata(other)))\n\u001b[0m\u001b[0;32m   4213\u001b[0m         \u001b[1;32mreturn\u001b[0m \u001b[0mself\u001b[0m\u001b[1;33m\u001b[0m\u001b[1;33m\u001b[0m\u001b[0m\n\u001b[0;32m   4214\u001b[0m \u001b[1;33m\u001b[0m\u001b[0m\n",
      "\u001b[1;31mUFuncTypeError\u001b[0m: Cannot cast ufunc 'add' output from dtype('float64') to dtype('int32') with casting rule 'same_kind'"
     ]
    },
    {
     "data": {
      "image/png": "[encoded data removed]",
      "text/plain": [
       "<Figure size 432x288 with 1 Axes>"
      ]
     },
     "metadata": {
      "needs_background": "light"
     },
     "output_type": "display_data"
    }
   ],
   "source": [
    "scanjob = scanjob_t({'sweepdata': dict({'param': station.gates.BL, 'start': 2000, 'end': 2200.0, 'step':3}), 'minstrument': [station.dmm_curr_sensor], 'wait_time': 1e-3})\n",
    "scanjob['stepdata'] = dict({'param': station.gates.BR, 'start': 1900, 'end': 2100.0, 'step': 3})\n",
    "\n",
    "data = qtt.measurements.scans.scan2D(station, scanjob, liveplotwindow=None, diff_dir=None, location = None, update_period=1)\n",
    "\n",
    "for key in list(data.arrays.keys())[:len(scanjob['minstrument'])]:\n",
    "    _ = MatPlot(data.arrays[key])\n",
    "    \n",
    "print(station.gates.get_all(verbose=1))"
   ]
  }
 ],
 "metadata": {
  "kernelspec": {
   "display_name": "Python 3",
   "language": "python",
   "name": "python3"
  },
  "language_info": {
   "codemirror_mode": {
    "name": "ipython",
    "version": 3
   },
   "file_extension": ".py",
   "mimetype": "text/x-python",
   "name": "python",
   "nbconvert_exporter": "python",
   "pygments_lexer": "ipython3",
   "version": "3.8.3"
  }
 },
 "nbformat": 4,
 "nbformat_minor": 2
}
