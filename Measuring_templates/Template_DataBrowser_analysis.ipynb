{
 "cells": [
  {
   "cell_type": "code",
   "execution_count": 2,
   "id": "liquid-catalyst",
   "metadata": {},
   "outputs": [],
   "source": [
    "import sys, os, tempfile\n",
    "import numpy as np\n",
    "%matplotlib inline\n",
    "%gui qt\n",
    "import matplotlib.pyplot as plt\n",
    "import qcodes\n",
    "\n",
    "from qcodes.data.data_set import DataSet\n",
    "import qtt\n",
    "from qtt.measurements.scans import scanjob_t"
   ]
  },
  {
   "cell_type": "code",
   "execution_count": 2,
   "id": "rotary-jaguar",
   "metadata": {},
   "outputs": [],
   "source": [
    "# set data directory\n",
    "path_save = r'C:\\qtt-dev\\TESTS'\n",
    "datadir = os.path.join(path_save, 'delete')\n",
    "DataSet.default_io = qcodes.data.io.DiskIO(datadir)"
   ]
  },
  {
   "cell_type": "code",
   "execution_count": null,
   "id": "inappropriate-desert",
   "metadata": {},
   "outputs": [],
   "source": [
    "logviewer = qtt.gui.dataviewer.DataViewer(data_directory=datadir, verbose=1)"
   ]
  },
  {
   "cell_type": "markdown",
   "id": "chinese-howard",
   "metadata": {},
   "source": [
    "Fetch the active dataset from the viewer"
   ]
  },
  {
   "cell_type": "code",
   "execution_count": 5,
   "id": "gross-memorial",
   "metadata": {},
   "outputs": [
    {
     "name": "stdout",
     "output_type": "stream",
     "text": [
      "DataSet:\n",
      "   location = 'C:\\\\qtt-dev\\\\TESTS\\\\delete\\\\2021-03-04\\\\17-12-49_qtt_Test'\n",
      "   <Type>   | <array_id>       | <array.name> | <array.shape>\n",
      "   Setpoint | CSR              | None         | (5,)\n",
      "   Setpoint | oscillator1_freq | None         | (5, 10)\n",
      "   Measured | demod4_R         | None         | (5, 10)\n",
      "   Measured | demod4_phi       | None         | (5, 10)\n"
     ]
    }
   ],
   "source": [
    "dataset = logviewer.dataset\n",
    "print( dataset )"
   ]
  },
  {
   "cell_type": "code",
   "execution_count": null,
   "id": "global-tourist",
   "metadata": {},
   "outputs": [],
   "source": []
  }
 ],
 "metadata": {
  "kernelspec": {
   "display_name": "Python 3",
   "language": "python",
   "name": "python3"
  },
  "language_info": {
   "codemirror_mode": {
    "name": "ipython",
    "version": 3
   },
   "file_extension": ".py",
   "mimetype": "text/x-python",
   "name": "python",
   "nbconvert_exporter": "python",
   "pygments_lexer": "ipython3",
   "version": "3.7.10"
  }
 },
 "nbformat": 4,
 "nbformat_minor": 5
}
