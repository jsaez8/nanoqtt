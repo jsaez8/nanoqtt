{
 "cells": [
  {
   "cell_type": "markdown",
   "metadata": {},
   "source": [
    "# Basic template for 1D and 2D plots in qtt\n",
    "### Load libraries (probably some are not needed)"
   ]
  },
  {
   "cell_type": "code",
   "execution_count": 1,
   "metadata": {},
   "outputs": [],
   "source": [
    "import sys, os, tempfile\n",
    "import numpy as np\n",
    "%matplotlib inline\n",
    "%gui qt\n",
    "import matplotlib.pyplot as plt\n",
    "import qcodes\n",
    "from qcodes.plots.qcmatplotlib import MatPlot\n",
    "from qcodes.plots.pyqtgraph import QtPlot\n",
    "from qcodes.data.data_set import DataSet\n",
    "import qtt\n",
    "from qtt.measurements.scans import scanjob_t  \n",
    "from qtt.measurements.videomode import VideoMode\n",
    "\n",
    "import time\n",
    "import datetime"
   ]
  },
  {
   "cell_type": "code",
   "execution_count": 2,
   "metadata": {},
   "outputs": [],
   "source": [
    "from qtt.instrument_drivers.virtualAwg.virtual_awg import VirtualAwg\n",
    "from qcodes.utils.validators import Numbers\n",
    "from qcodes.instrument.base import Instrument\n",
    "from qcodes.instrument.parameter import ManualParameter\n",
    "from qcodes import ScaledParameter\n",
    "\n",
    "from qtt.algorithms.ohmic import fitOhmic"
   ]
  },
  {
   "cell_type": "code",
   "execution_count": 3,
   "metadata": {},
   "outputs": [],
   "source": [
    "import pyvisa #Communications\n",
    "import visa #Communications"
   ]
  },
  {
   "cell_type": "code",
   "execution_count": 4,
   "metadata": {},
   "outputs": [],
   "source": [
    "from qtt.instrument_drivers.gates import VirtualDAC\n",
    "\n",
    "# Drivers\n",
    "from qcodes.instrument_drivers.Keysight.Keysight_34465A_submodules import Keysight_34465A\n",
    "from qcodes.instrument_drivers.IST_devices.FastDuck import FastDuck as DAC_module\n",
    "from qcodes_contrib_drivers.drivers.QuTech.IVVI import IVVI\n",
    "from qcodes.instrument_drivers.ZI.ZIUHFLI import ZIUHFLI\n",
    "#from qcodes.instrument_drivers.zurich_instruments.uhfli import UHFLI"
   ]
  },
  {
   "cell_type": "markdown",
   "metadata": {},
   "source": [
    "### Choose folder to save your data"
   ]
  },
  {
   "cell_type": "code",
   "execution_count": 5,
   "metadata": {},
   "outputs": [],
   "source": [
    "# set data directory\n",
    "path_save = r'C:\\qtt-dev\\TESTS'\n",
    "datadir = os.path.join(path_save, 'delete')\n",
    "DataSet.default_io = qcodes.data.io.DiskIO(datadir)"
   ]
  },
  {
   "cell_type": "code",
   "execution_count": 6,
   "metadata": {},
   "outputs": [
    {
     "data": {
      "text/plain": [
       "'C:\\\\qtt-dev\\\\TESTS\\\\delete'"
      ]
     },
     "execution_count": 6,
     "metadata": {},
     "output_type": "execute_result"
    }
   ],
   "source": [
    "datadir"
   ]
  },
  {
   "cell_type": "markdown",
   "metadata": {},
   "source": [
    "### Initialize instruments"
   ]
  },
  {
   "cell_type": "code",
   "execution_count": 7,
   "metadata": {},
   "outputs": [
    {
     "data": {
      "text/plain": [
       "('USB0::0x2A8D::0x0101::MY57511347::INSTR',\n",
       " 'ASRL1::INSTR',\n",
       " 'ASRL6::INSTR',\n",
       " 'ASRL10::INSTR')"
      ]
     },
     "execution_count": 7,
     "metadata": {},
     "output_type": "execute_result"
    }
   ],
   "source": [
    "rm = pyvisa.ResourceManager()\n",
    "rm.list_resources()"
   ]
  },
  {
   "cell_type": "code",
   "execution_count": 8,
   "metadata": {},
   "outputs": [
    {
     "name": "stdout",
     "output_type": "stream",
     "text": [
      "Connected to: Keysight Technologies 34465A (serial:MY57511347, firmware:A.02.17-02.40-02.17-00.52-04-01) in 0.18s\n"
     ]
    },
    {
     "name": "stderr",
     "output_type": "stream",
     "text": [
      "C:\\Users\\Nanoelectronics\\Anaconda3\\envs\\qtt_dev_Jaime\\lib\\site-packages\\qcodes\\utils\\deprecate.py:59: QCoDeSDeprecationWarning: The class <ZIUHFLI> is deprecated, because There is a new UHFLI driver from Zurich Instruments. Use \"instrument_drivers.zurich_instruments.uhfli.UHFLI\" as an alternative.\n",
      "  issue_deprecation_warning(f'{t} <{n}>', reason, alternative)\n"
     ]
    },
    {
     "name": "stdout",
     "output_type": "stream",
     "text": [
      "Discovered device `dev2148`: UHFLI with options DIG.\n",
      "Creating an API session for device `dev2148` on `127.0.0.1`, `8004` with apilevel `5`.\n"
     ]
    }
   ],
   "source": [
    "# DMM\n",
    "dmm_sensor = Keysight_34465A('dmm_sensor', 'USB0::0x2A8D::0x0101::MY57511347::INSTR')\n",
    "\n",
    "# FAST DUCK\n",
    "DAC = DAC_module('DAC','COM6', dac_step=50.0, dac_delay=0.1)\n",
    "\n",
    "# UHFLI\n",
    "#digitizer = UHFLI('digitizer','dev2148', interface='USB')\n",
    "digitizer = ZIUHFLI('digitizer','dev2148')"
   ]
  },
  {
   "cell_type": "code",
   "execution_count": 9,
   "metadata": {},
   "outputs": [],
   "source": [
    "from qcodes.plots.qcmatplotlib import MatPlot\n",
    "\n",
    "def plot_dataset(dataset: DataSet, scanjob, save=True) -> None:\n",
    "    \"\"\" Plot a dataset to matplotlib figure window\n",
    "\n",
    "    Args:\n",
    "        dataset: DataSet to be plotted\n",
    "        scanjob: scanjob of the measurement\n",
    "        save: Select if you want to save the plots\n",
    "\n",
    "    \"\"\"\n",
    "    \n",
    "    parameter_names = [name for name in dataset.arrays.keys() if not dataset.arrays[name].is_setpoint]\n",
    "    default_array = dataset.default_parameter_array()\n",
    "    \n",
    "    # Path for saving\n",
    "    base_loc = dataset.default_io.base_location\n",
    "    folder = '\\\\' + dataset.location + '\\\\'\n",
    "    label = str(scanjob.get('dataset_label'))\n",
    "    path = base_loc + folder + label\n",
    "    \n",
    "    # 2D plots\n",
    "    if len(default_array.shape) >= 2:\n",
    "        for idx, parameter_name in enumerate(parameter_names):\n",
    "                plot_handle = MatPlot(dataset.arrays[parameter_name], num=idx)\n",
    "                plot_handle.rescale_axis()\n",
    "                if save==True:\n",
    "                    plt.savefig(path + str(idx) + '.png')\n",
    "\n",
    "    # 1D plots        \n",
    "    else:\n",
    "        for idx, parameter_name in enumerate(parameter_names):\n",
    "            plot_handle = MatPlot(dataset.arrays[parameter_name], num=idx)\n",
    "            plot_handle.rescale_axis()\n",
    "            if save==True:\n",
    "                plt.savefig(path + str(idx) + '.png')"
   ]
  },
  {
   "cell_type": "code",
   "execution_count": 10,
   "metadata": {},
   "outputs": [],
   "source": [
    "class DMM_current(qcodes.Parameter):\n",
    "    def __init__(self, name, dmm_instance, gain):\n",
    "        # only name is required\n",
    "        super().__init__(name, label='1G',\n",
    "                         #vals=qc.validators.Ints(min_value=0),\n",
    "                         docstring='measures the current out of the DMM',\n",
    "                         unit= 'A')\n",
    "        self.dmm_instance = dmm_instance\n",
    "        self._gain = gain\n",
    "    # you must provide a get method, a set method, or both\n",
    "    def get_raw(self):\n",
    "        self._current = self.dmm_instance.volt.get()/self._gain\n",
    "        return self._current\n",
    "    \n",
    "    def set_raw(self, val):\n",
    "        # StandardParameter handles validation automatically, Parameter doesn't\n",
    "        self._vals.validate(val)\n",
    "        self._count = val\n",
    "        \n",
    "\n",
    "\n",
    "#give the parameter a name and set the gain. \n",
    "#Careful to not call it DMM.curr because it may get confused with \n",
    "#the already existing DMM 'A')"
   ]
  },
  {
   "cell_type": "code",
   "execution_count": 11,
   "metadata": {},
   "outputs": [],
   "source": [
    "dmm_curr_sensor = DMM_current('dmm_curr_sensor', dmm_instance=dmm_sensor, gain=1e6)"
   ]
  },
  {
   "cell_type": "markdown",
   "metadata": {},
   "source": [
    "### Settings of UHFLI"
   ]
  },
  {
   "cell_type": "code",
   "execution_count": 12,
   "metadata": {},
   "outputs": [
    {
     "name": "stdout",
     "output_type": "stream",
     "text": [
      "Current scope settings: SR: 7.03 MHz, Length: 16384, duration: 0.002331 (s)\n"
     ]
    }
   ],
   "source": [
    "#UHFLI (digitizer) Scope settings - take care of all of these, for every case\n",
    "#Horizontal\n",
    "digitizer.scope_mode.set('Time Domain')\n",
    "digitizer.scope_samplingrate.set('7.03 MHz') #'7.03 MHz', '56.2 MHz', '880 kHz', '1.80 GHz', '440 kHz', '225 MHz', '54.9 kHz', '28.1 MHz', '1.75 MHz', '113 MHz', '900 MHz', '14.0 MHz', '3.50 MHz', '220 kHz', '27.5 kHz', '450 MHz', '110 kHz'\n",
    "\n",
    "(SR, length, dur) = (digitizer.scope_samplingrate(), digitizer.scope_length(), digitizer.scope_duration())\n",
    "print('Current scope settings: SR: {}, Length: {:d}, duration: {:.6f} ({})'.format(SR, int(length), dur, digitizer.scope_duration.unit))\n",
    "\n",
    "digitizer.scope_average_weight(1)  # Number of averages\n",
    "\n",
    "# THE TRIG TAB\n",
    "# Trigger\n",
    "digitizer.scope_trig_enable.set('ON') # Trigger ON or OFF\n",
    "digitizer.scope_trig_signal.set('Trig Input 1') # Channel where we want to trigger\n",
    "digitizer.scope_trig_slope.set('Rise')\n",
    "digitizer.scope_trig_level.set(3e-1)  # Volts if the input is volts\n",
    "digitizer.scope_trig_holdoffseconds.set(2e-5)# Defines the time before the trigger is rearmed after a recording event.\n",
    "digitizer.scope_trig_reference.set(0)  # Sets the reference for the delay in percent of the trace duration, i.e. 0 is at the trigger\n",
    "digitizer.scope_trig_delay.set(0)  # Sets the delay for the acquisition\n",
    "\n",
    "digitizer.scope_trig_hystmode.set('absolute') #Selects the mode to define the hysteresis strength. The relative mode will work best over the full input range as long as the analog input signal does not suffer from excessive noise.\n",
    "digitizer.scope_trig_hystabsolute.set(3e-6)  # Volts if the input is volts. #Defines the voltage the source signal must deviate from the trigger level before the trigger is rearmed again. Set to 0 to turn it off. The sign is defined by the Edge setting\n",
    "digitizer.scope_trig_gating_enable.set('OFF') #If enabled the trigger will be gated by the trigger gating input signal. This feature requires the DIG option\n",
    "digitizer.scope_trig_gating_source.set('Trigger In 4 Low') # Select the signal source used for trigger gating if gating is enabled. This feature requires the DIG option.\n",
    "digitizer.scope_trig_holdoffmode.set('s')  # QCoDeS currently does not support a holdoff in events. \n",
    "\n",
    "#A dict of scope readout nodes\n",
    "UHFLI_read_nodes = {'Signal Input 1':0,'Signal Input 2':1,\n",
    "        'Demod 1 X':2,'Demod 1 Y':3,\n",
    "        'Demod 1 R':4,'Demod 1 Phase':5,'Demod 8 X':6,\n",
    "        'Demod 4 X':7,'Demod 4 Y':8,\n",
    "        'Demod 4 R':9,'Demod 4 Phase':10,'Demod 8 X':11,\n",
    "        'Demod 8 Y':12,'Demod 8 R':13,'Demod 8 Phase':14}"
   ]
  },
  {
   "cell_type": "markdown",
   "metadata": {},
   "source": [
    "#### Set limits to the values of dacs (safety measure)"
   ]
  },
  {
   "cell_type": "code",
   "execution_count": 14,
   "metadata": {},
   "outputs": [],
   "source": [
    "#Setting min and max values for each DAC\n",
    "DAC.parameters['dac5'].vals._min_value = -1000.0\n",
    "DAC.parameters['dac5'].vals._max_value = 4000.0\n",
    "DAC.parameters['dac6'].vals._min_value = -500\n",
    "DAC.parameters['dac6'].vals._max_value = 4000.0\n",
    "DAC.parameters['dac7'].vals._min_value = -4000.0\n",
    "DAC.parameters['dac7'].vals._max_value = 4000.0\n",
    "DAC.parameters['dac8'].vals._min_value = -4000.0\n",
    "DAC.parameters['dac8'].vals._max_value = 4000.0\n",
    "DAC.parameters['dac9'].vals._min_value = -4000.0\n",
    "DAC.parameters['dac9'].vals._max_value = 4000.0\n",
    "DAC.parameters['dac10'].vals._min_value = -4000.0\n",
    "DAC.parameters['dac10'].vals._max_value = 4000.0\n",
    "DAC.parameters['dac11'].vals._min_value = 0.0\n",
    "DAC.parameters['dac11'].vals._max_value = 3600.0\n",
    "DAC.parameters['dac12'].vals._min_value = 0.0\n",
    "DAC.parameters['dac12'].vals._max_value = 3200.0\n",
    "DAC.parameters['dac13'].vals._min_value = 0.0\n",
    "DAC.parameters['dac13'].vals._max_value = 4000.0\n",
    "DAC.parameters['dac14'].vals._min_value = 0.0\n",
    "DAC.parameters['dac14'].vals._max_value = 4000.0\n",
    "DAC.parameters['dac15'].vals._min_value = 0.0\n",
    "DAC.parameters['dac15'].vals._max_value = 4000.0\n",
    "DAC.parameters['dac16'].vals._min_value = 0.0\n",
    "DAC.parameters['dac16'].vals._max_value = 4000.0\n"
   ]
  },
  {
   "cell_type": "markdown",
   "metadata": {},
   "source": [
    "### Give meaninful names to the gates"
   ]
  },
  {
   "cell_type": "code",
   "execution_count": 13,
   "metadata": {},
   "outputs": [],
   "source": [
    "gates = VirtualDAC('gates', \n",
    "                   instruments = [DAC], \n",
    "                   gate_map ={'VCS': (0, 1), \n",
    "                              'VQD': (0, 2), \n",
    "                              'RightSeparation': (0, 3), \n",
    "                              'LeftSeparation': (0,4), \n",
    "                              'BL': (0, 5), \n",
    "                              'PM': (0, 6), \n",
    "                              'BR': (0,7), \n",
    "                              'CSL':(0,8),\n",
    "                              'CSM':(0,9),\n",
    "                              'CSR':(0,10)},\n",
    "                   rc_times=None)"
   ]
  },
  {
   "cell_type": "code",
   "execution_count": 14,
   "metadata": {},
   "outputs": [],
   "source": [
    "station = qcodes.Station(gates, DAC, dmm_curr_sensor, digitizer)"
   ]
  },
  {
   "cell_type": "code",
   "execution_count": 28,
   "metadata": {},
   "outputs": [],
   "source": [
    "pv = qtt.createParameterWidget([gates])\n",
    "mwindows = qtt.gui.live_plotting.setupMeasurementWindows(station, create_parameter_widget=False)\n",
    "plotQ = mwindows['plotwindow']"
   ]
  },
  {
   "cell_type": "markdown",
   "metadata": {},
   "source": [
    "# Find resonances"
   ]
  },
  {
   "cell_type": "code",
   "execution_count": 48,
   "metadata": {},
   "outputs": [
    {
     "name": "stdout",
     "output_type": "stream",
     "text": [
      "\n",
      "                                     For each sweep point, the demodulator\n",
      "                                     filter bandwidth (time constant) may\n",
      "                                     be either set automatically, be the\n",
      "                                     current demodulator bandwidth or be\n",
      "                                     a fixed number; the sweeper_BW\n",
      "                                     parameter.\n",
      "                                     \r\n",
      "\r\n",
      "Parameter class:\r\n",
      "\r\n",
      "* `name` sweeper_BWmode\r\n",
      "* `label` Sweeper bandwidth control mode\r\n",
      "* `unit` \r\n",
      "* `vals` <Enum: {'auto', 'current', 'fixed'}>\n"
     ]
    }
   ],
   "source": [
    "# I wonder what the sweeper BWmode does...\n",
    "print(digitizer.sweeper_BWmode.__doc__)"
   ]
  },
  {
   "cell_type": "code",
   "execution_count": 73,
   "metadata": {},
   "outputs": [],
   "source": [
    "# Set up a sweep sweeping an internal oscillator frequency from 1 MHz to 5 MHz\n",
    "# We want the sweeper to sweep linearly over 200 points\n",
    "digitizer.sweeper_param('Osc 1 Frequency')\n",
    "digitizer.sweeper_xmapping('lin')\n",
    "digitizer.sweeper_start(11e6)\n",
    "digitizer.sweeper_stop(20e6)\n",
    "digitizer.sweeper_samplecount(100)\n",
    "digitizer.sweeper_BWmode('fixed')\n",
    "digitizer.sweeper_BW(250)\n",
    "digitizer.sweeper_order(4)\n",
    "\n",
    "# Signal to be measured\n",
    "digitizer.add_signal_to_sweeper(4, 'R')\n",
    "\n",
    "# Make sure that demodulator 4 is measuring what and as it should\n",
    "digitizer.demod4_trigger('Continuous')\n",
    "digitizer.demod4_signalin('Sig In 1')\n",
    "\n",
    "# Make sweeper ready to measure.\n",
    "digitizer.Sweep.build_sweep()\n",
    "\n",
    "# I wonder what kind of sweep we have made now...\n",
    "digitizer.print_sweeper_settings()"
   ]
  },
  {
   "cell_type": "code",
   "execution_count": 75,
   "metadata": {},
   "outputs": [
    {
     "name": "stdout",
     "output_type": "stream",
     "text": [
      "DataSet:\n",
      "   location = '2021-03-04/17-49-04_qtt_generic'\n",
      "   <Type>   | <array_id>  | <array.name> | <array.shape>\n",
      "   Setpoint | Hz_set      | Hz           | (100,)\n",
      "   Measured | digitizer_R | R            | (100,)\n",
      "acquired at 2021-03-04 17:49:07\n"
     ]
    },
    {
     "data": {
      "image/png": "[encoded data removed]",
      "text/plain": [
       "<Figure size 432x288 with 1 Axes>"
      ]
     },
     "metadata": {
      "needs_background": "light"
     },
     "output_type": "display_data"
    }
   ],
   "source": [
    "from qcodes.measure import Measure\n",
    "# Perform a proper QCoDeS measurement\n",
    "sweepdata = Measure(digitizer.Sweep).run()\n",
    "plot_dataset(sweepdata, scanjob, save=True)"
   ]
  },
  {
   "cell_type": "markdown",
   "metadata": {},
   "source": [
    "# Optimize amplitude"
   ]
  },
  {
   "cell_type": "code",
   "execution_count": 71,
   "metadata": {},
   "outputs": [
    {
     "name": "stdout",
     "output_type": "stream",
     "text": [
      "scan2D: 0/5: time 00:00:00 (~00:00:00 remaining): setting CSR to 0.000\n"
     ]
    },
    {
     "data": {
      "image/png": "[encoded data removed]",
      "text/plain": [
       "<Figure size 432x288 with 2 Axes>"
      ]
     },
     "metadata": {
      "needs_background": "light"
     },
     "output_type": "display_data"
    },
    {
     "data": {
      "image/png": "[encoded data removed]",
      "text/plain": [
       "<Figure size 432x288 with 2 Axes>"
      ]
     },
     "metadata": {
      "needs_background": "light"
     },
     "output_type": "display_data"
    }
   ],
   "source": [
    "# Prepare digitizer\n",
    "station.digitizer.oscillator1_freq(10e6)\n",
    "station.digitizer.signal_output1_on('ON') # Turn on oscillator\n",
    "\n",
    "\n",
    "scanjob = scanjob_t({'sweepdata': dict({'param': digitizer.signal_output1_amplitude, \n",
    "                                        'start': 0.0, 'end': 0.010, 'step':0.001}), \n",
    "                     'minstrument': [station.digitizer.demod4_R, station.digitizer.demod4_phi], 'wait_time': 1e-3})\n",
    "\n",
    "scanjob['stepdata'] = dict({'param': station.gates.CSR, 'start': 0.0, 'end': 5.0, 'step': 1})\n",
    "scanjob['dataset_label'] = 'Test'\n",
    "\n",
    "data = qtt.measurements.scans.scan2D(station, scanjob, liveplotwindow=None, diff_dir=None, location = None, update_period=1)\n",
    "# Turn off oscillator\n",
    "station.digitizer.signal_output1_on('OFF')\n",
    "\n",
    "plot_dataset(data, scanjob, save=True)"
   ]
  },
  {
   "cell_type": "markdown",
   "metadata": {},
   "source": [
    "# Optimize frequency"
   ]
  },
  {
   "cell_type": "code",
   "execution_count": 44,
   "metadata": {},
   "outputs": [
    {
     "name": "stdout",
     "output_type": "stream",
     "text": [
      "scan2D: 0/5: time 00:00:00 (~00:00:00 remaining): setting CSR to 0.000\n"
     ]
    },
    {
     "data": {
      "image/png": "[encoded data removed]",
      "text/plain": [
       "<Figure size 432x288 with 2 Axes>"
      ]
     },
     "metadata": {
      "needs_background": "light"
     },
     "output_type": "display_data"
    },
    {
     "data": {
      "image/png": "[encoded data removed]",
      "text/plain": [
       "<Figure size 432x288 with 2 Axes>"
      ]
     },
     "metadata": {
      "needs_background": "light"
     },
     "output_type": "display_data"
    }
   ],
   "source": [
    "# Prepare digitizer\n",
    "station.digitizer.signal_output1_amplitude(1e-3)\n",
    "station.digitizer.signal_output1_on('ON') # Turn on oscillator\n",
    "\n",
    "scanjob = scanjob_t({'sweepdata': dict({'param': digitizer.oscillator1_freq, \n",
    "                                        'start': 100.0e6, 'end': 110.0e6, 'step':1e6}), \n",
    "                     'minstrument': [station.digitizer.demod4_R, station.digitizer.demod4_phi], 'wait_time': 1e-3})\n",
    "\n",
    "scanjob['stepdata'] = dict({'param': station.gates.CSR, 'start': 0.0, 'end': 5.0, 'step': 1})\n",
    "scanjob['dataset_label'] = 'Test'\n",
    "\n",
    "data = qtt.measurements.scans.scan2D(station, scanjob, liveplotwindow=None, diff_dir=None, location = None, update_period=1)\n",
    "# Turn off oscillator\n",
    "station.digitizer.signal_output1_on('OFF')\n",
    "\n",
    "plot_dataset(data, scanjob, save=True)"
   ]
  },
  {
   "cell_type": "code",
   "execution_count": null,
   "metadata": {},
   "outputs": [],
   "source": []
  }
 ],
 "metadata": {
  "kernelspec": {
   "display_name": "Python 3",
   "language": "python",
   "name": "python3"
  },
  "language_info": {
   "codemirror_mode": {
    "name": "ipython",
    "version": 3
   },
   "file_extension": ".py",
   "mimetype": "text/x-python",
   "name": "python",
   "nbconvert_exporter": "python",
   "pygments_lexer": "ipython3",
   "version": "3.7.10"
  }
 },
 "nbformat": 4,
 "nbformat_minor": 4
}
