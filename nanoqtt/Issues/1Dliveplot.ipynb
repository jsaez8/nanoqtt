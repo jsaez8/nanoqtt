{
 "cells": [
  {
   "cell_type": "code",
   "execution_count": null,
   "id": "better-singing",
   "metadata": {},
   "outputs": [],
   "source": [
    "import sys, os, tempfile\n",
    "import numpy as np\n",
    "%matplotlib inline\n",
    "%gui qt\n",
    "import matplotlib.pyplot as plt\n",
    "import qcodes\n",
    "from qcodes.plots.qcmatplotlib import MatPlot\n",
    "from qcodes.plots.pyqtgraph import QtPlot\n",
    "from qcodes.data.data_set import DataSet\n",
    "from qtt.measurements.scans import scanjob_t  \n",
    "import qtt\n",
    "from qtt.instrument_drivers.gates import VirtualDAC\n",
    "from qcodes.tests.instrument_mocks import DummyInstrument, DummyInstrumentWithMeasurement\n",
    "\n",
    "# set data directory\n",
    "path_save = r'K:\\Jaime\\Testing_qtt'\n",
    "datadir = os.path.join(path_save, 'Test')\n",
    "DataSet.default_io = qcodes.data.io.DiskIO(datadir)\n",
    "\n",
    "dac = DummyInstrument('dac', gates=['ch1', 'ch2'])\n",
    "dmm = DummyInstrumentWithMeasurement(name='dmm', setter_instr=dac)\n",
    "\n",
    "station = qcodes.Station(dac, dmm)\n",
    "mwindows = qtt.gui.live_plotting.setupMeasurementWindows(station, create_parameter_widget=False)\n",
    "plotQ = mwindows['plotwindow']\n",
    "\n",
    "# Checking the sensor\n",
    "scanjob = scanjob_t({'sweepdata': dict({'param': station.dac.ch1,\n",
    "                                        'start': 0.0, 'end': 30.0, 'step':1.0,\n",
    "                                        'wait_time': 0.1}),\n",
    "                                        'minstrument': [station.dmm.v1],\n",
    "                                        'dataset_label': 'Test1D_liveplot'})\n",
    "\n",
    "data1d = qtt.measurements.scans.scan1D(station, scanjob, liveplotwindow= None,location=None, verbose=0)"
   ]
  },
  {
   "cell_type": "code",
   "execution_count": 1,
   "id": "consecutive-jerusalem",
   "metadata": {},
   "outputs": [],
   "source": [
    "import sys, os, tempfile\n",
    "import numpy as np\n",
    "%matplotlib inline\n",
    "%gui qt\n",
    "import matplotlib.pyplot as plt\n",
    "import qcodes\n",
    "from qcodes.plots.qcmatplotlib import MatPlot\n",
    "from qcodes.plots.pyqtgraph import QtPlot\n",
    "from qcodes.data.data_set import DataSet\n",
    "from qtt.measurements.scans import scanjob_t  \n",
    "import qtt\n",
    "from qtt.instrument_drivers.gates import VirtualDAC\n",
    "from qcodes.tests.instrument_mocks import DummyInstrument, DummyInstrumentWithMeasurement"
   ]
  },
  {
   "cell_type": "code",
   "execution_count": 2,
   "id": "alleged-fisher",
   "metadata": {},
   "outputs": [],
   "source": [
    "# set data directory\n",
    "path_save = r'K:\\Jaime\\Testing_qtt'\n",
    "datadir = os.path.join(path_save, 'Test')\n",
    "DataSet.default_io = qcodes.data.io.DiskIO(datadir)"
   ]
  },
  {
   "cell_type": "code",
   "execution_count": 3,
   "id": "wired-meter",
   "metadata": {},
   "outputs": [],
   "source": [
    "dac = DummyInstrument('dac', gates=['ch1', 'ch2'])\n",
    "dmm = DummyInstrumentWithMeasurement(name='dmm', setter_instr=dac)\n"
   ]
  },
  {
   "cell_type": "code",
   "execution_count": 4,
   "id": "sonic-thousand",
   "metadata": {},
   "outputs": [],
   "source": [
    "station = qcodes.Station(dac, dmm)"
   ]
  },
  {
   "cell_type": "code",
   "execution_count": 5,
   "id": "functional-quantity",
   "metadata": {},
   "outputs": [],
   "source": [
    "mwindows = qtt.gui.live_plotting.setupMeasurementWindows(station, create_parameter_widget=False)\n",
    "plotQ = mwindows['plotwindow']"
   ]
  },
  {
   "cell_type": "code",
   "execution_count": 7,
   "id": "significant-partner",
   "metadata": {},
   "outputs": [],
   "source": [
    "# Checking the sensor\n",
    "scanjob = scanjob_t({'sweepdata': dict({'param': station.dac.ch1,\n",
    "                                        'start': 0.0, 'end': 30.0, 'step':1.0,\n",
    "                                        'wait_time': 0.1}),\n",
    "                                        'minstrument': [station.dmm.v1],\n",
    "                                        'dataset_label': 'Test1D_liveplot'})\n",
    "\n",
    "data1d = qtt.measurements.scans.scan1D(station, scanjob, liveplotwindow= None,location=None, verbose=0)"
   ]
  }
 ],
 "metadata": {
  "kernelspec": {
   "display_name": "Python 3",
   "language": "python",
   "name": "python3"
  },
  "language_info": {
   "codemirror_mode": {
    "name": "ipython",
    "version": 3
   },
   "file_extension": ".py",
   "mimetype": "text/x-python",
   "name": "python",
   "nbconvert_exporter": "python",
   "pygments_lexer": "ipython3",
   "version": "3.7.10"
  }
 },
 "nbformat": 4,
 "nbformat_minor": 5
}
